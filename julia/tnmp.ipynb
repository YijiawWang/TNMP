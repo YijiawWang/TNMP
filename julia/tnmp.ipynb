{
 "cells": [
  {
   "cell_type": "markdown",
   "metadata": {},
   "source": [
    "# Tensor Network Message Passing\n",
    "\n",
    "This tutorial is based on the julia package [GenericMessagePassing.jl](https://github.com/ArrogantGao/GenericMessagePassing.jl).\n",
    "\n",
    "## Getting Started\n",
    "\n",
    "Before runing the following code, please install the package by\n",
    "```julia\n",
    "pkg> add https://github.com/ArrogantGao/GenericMessagePassing.jl\n",
    "```\n",
    "and then install other necessary deps\n",
    "```julia\n",
    "pkg> instantiate\n",
    "```\n",
    "\n",
    "One can run the following code to reproduce the results the same as the python code, or directly run the script `494bus.jl` to get the results.\n",
    "```julia\n",
    "julia --project=. 494bus.jl\n",
    "```\n"
   ]
  },
  {
   "cell_type": "code",
   "execution_count": 5,
   "metadata": {},
   "outputs": [],
   "source": [
    "using GenericMessagePassing\n",
    "using CSV, DataFrames\n",
    "\n",
    "using Graphs, GraphIO\n",
    "using TensorInference, OMEinsum\n"
   ]
  },
  {
   "cell_type": "code",
   "execution_count": 6,
   "metadata": {},
   "outputs": [],
   "source": [
    "# load the 494 bus graph and the random J and h\n",
    "\n",
    "g = loadgraph(\"data/494bus.dot\")\n",
    "df_J = CSV.read(\"data/494bus_J_random.csv\", DataFrame)\n",
    "df_h = CSV.read(\"data/494bus_h_random.csv\", DataFrame)\n",
    "\n",
    "Js_dict = Dict()\n",
    "for row in eachrow(df_J)\n",
    "    Js_dict[minmax(row.v1 + 1, row.v2 + 1)] = row.J\n",
    "end\n",
    "\n",
    "hs = df_h.h \n",
    "Js = Float64[]\n",
    "for e in edges(g)\n",
    "    v1, v2 = src(e), dst(e)\n",
    "    push!(Js, Js_dict[minmax(v1, v2)])\n",
    "end"
   ]
  },
  {
   "cell_type": "code",
   "execution_count": 7,
   "metadata": {},
   "outputs": [
    {
     "data": {
      "text/plain": [
       "Dict{Vector{Int64}, Vector{Float64}} with 494 entries:\n",
       "  [311] => [0.516055, 0.483945]\n",
       "  [281] => [0.482438, 0.517562]\n",
       "  [14]  => [0.474304, 0.525696]\n",
       "  [464] => [0.457306, 0.542694]\n",
       "  [491] => [0.520861, 0.479139]\n",
       "  [386] => [0.528997, 0.471003]\n",
       "  [433] => [0.455651, 0.544349]\n",
       "  [447] => [0.431216, 0.568784]\n",
       "  [314] => [0.502899, 0.497101]\n",
       "  [357] => [0.442085, 0.557915]\n",
       "  [461] => [0.490967, 0.509033]\n",
       "  [480] => [0.589852, 0.410148]\n",
       "  [334] => [0.508424, 0.491576]\n",
       "  [403] => [0.529911, 0.470089]\n",
       "  [174] => [0.455893, 0.544107]\n",
       "  [322] => [0.509197, 0.490803]\n",
       "  [269] => [0.484172, 0.515828]\n",
       "  [315] => [0.497178, 0.502822]\n",
       "  [123] => [0.562221, 0.437779]\n",
       "  ⋮     => ⋮"
      ]
     },
     "metadata": {},
     "output_type": "display_data"
    }
   ],
   "source": [
    "# construct the tensor network model\n",
    "tn, code, tensors = GenericMessagePassing.ising_model(g, -1 .* hs, -1 .* Js, 0.5);\n",
    "\n",
    "# calculate the exact marginals using the tensor inference package\n",
    "ti_sol = marginals(tn)"
   ]
  },
  {
   "cell_type": "code",
   "execution_count": 11,
   "metadata": {},
   "outputs": [
    {
     "name": "stdout",
     "output_type": "stream",
     "text": [
      "--------------------------------\n",
      "average size of neibs: 16.841666666666665\n",
      "maximum size of neibs: 186\n",
      "--------------------------------\n",
      "maximum size of sc: 4.0\n",
      "total contraction cost: 16.466936773190373\n",
      "--------------------------------\n",
      "iter 1: error_max = 0.8614038391391328\n",
      "iter 2: error_max = 0.48326991419219956\n",
      "iter 3: error_max = 0.3444205885019018\n",
      "iter 4: error_max = 0.21850720233109744\n",
      "iter 5: error_max = 0.1417604278927589\n",
      "iter 6: error_max = 0.08267485898616572\n",
      "iter 7: error_max = 0.07934906256293711\n",
      "iter 8: error_max = 0.06053040482170069\n",
      "iter 9: error_max = 0.03594556955877215\n",
      "iter 10: error_max = 0.01824760249059898\n",
      "iter 11: error_max = 0.01380004584722\n",
      "iter 12: error_max = 0.011357386053667595\n",
      "iter 13: error_max = 0.006397854554759996\n",
      "iter 14: error_max = 0.004938978320702114\n",
      "iter 15: error_max = 0.0033233134123270003\n",
      "iter 16: error_max = 0.0019929466331080614\n",
      "iter 17: error_max = 0.001705720322313753\n",
      "iter 18: error_max = 0.0014884956526740045\n",
      "iter 19: error_max = 0.0006725052638526519\n",
      "iter 20: error_max = 0.0006429422274290553\n",
      "iter 21: error_max = 0.00031629925471710063\n",
      "iter 22: error_max = 0.00026072818827849176\n",
      "iter 23: error_max = 0.0001797266754842708\n",
      "iter 24: error_max = 0.00010978524989158078\n",
      "iter 25: error_max = 8.283622906846144e-5\n",
      "iter 26: error_max = 6.774573258683247e-5\n",
      "iter 27: error_max = 5.0099296626249235e-5\n",
      "iter 28: error_max = 4.394660839251996e-5\n",
      "iter 29: error_max = 2.495547315517488e-5\n",
      "iter 30: error_max = 1.8548568085363648e-5\n",
      "iter 31: error_max = 1.6882926089700767e-5\n",
      "iter 32: error_max = 8.13051333037329e-6\n",
      "iter 33: error_max = 6.313873163299455e-6\n",
      "iter 34: error_max = 4.634427694660825e-6\n",
      "iter 35: error_max = 3.1145833863654993e-6\n",
      "iter 36: error_max = 2.2980621027235415e-6\n",
      "iter 37: error_max = 1.3353554333406237e-6\n",
      "iter 38: error_max = 1.1828400060531763e-6\n",
      "iter 39: error_max = 8.434977336602145e-7\n"
     ]
    }
   ],
   "source": [
    "tnbp_config = TNBPConfig(verbose = true, r = 7, optimizer = TreeSA(sc_target = 20, ntrials = 1, niters = 5, βs = 0.1:0.1:100), error = 1e-6);\n",
    "tnbp_sol = marginal_tnbp(tn, tnbp_config);"
   ]
  },
  {
   "cell_type": "code",
   "execution_count": 12,
   "metadata": {},
   "outputs": [
    {
     "data": {
      "text/plain": [
       "1.5302769002427566e-5"
      ]
     },
     "metadata": {},
     "output_type": "display_data"
    }
   ],
   "source": [
    "total_err = 0.0\n",
    "for i in keys(tnbp_sol)\n",
    "    total_err += sum((ti_sol[[i]] - tnbp_sol[i]).^2)\n",
    "end\n",
    "\n",
    "total_err = sqrt(total_err) / 494"
   ]
  }
 ],
 "metadata": {
  "kernelspec": {
   "display_name": "Julia 1.11.5",
   "language": "julia",
   "name": "julia-1.11"
  },
  "language_info": {
   "file_extension": ".jl",
   "mimetype": "application/julia",
   "name": "julia",
   "version": "1.11.5"
  }
 },
 "nbformat": 4,
 "nbformat_minor": 2
}
